{
 "cells": [
  {
   "cell_type": "code",
   "execution_count": 81,
   "metadata": {},
   "outputs": [
    {
     "data": {
      "text/plain": [
       "10"
      ]
     },
     "execution_count": 81,
     "metadata": {},
     "output_type": "execute_result"
    }
   ],
   "source": [
    "b=[0.4,0.2,0.2,0.1,0.07,0.03]\n",
    "a=[0.2,0.15,0.2,0.1,0.1,0.08,.07,0.05,0.03,0.02]\n",
    "c=[0.3,0.28,0.22,0.15,0.05]\n",
    "d=[]\n",
    "sum(c)\n",
    "len(a)"
   ]
  },
  {
   "cell_type": "code",
   "execution_count": 3,
   "metadata": {},
   "outputs": [],
   "source": [
    "def splitt(lis):\n",
    "    res=[]\n",
    "    for _ in range(1,len(lis)):\n",
    "        res.append(abs(sum(lis[:_])-sum(lis[_:])))\n",
    "    spl=res.index(min(res))\n",
    "    a=lis[:spl+1]\n",
    "    b=lis[spl+1:]\n",
    "    return a,b"
   ]
  },
  {
   "cell_type": "code",
   "execution_count": 120,
   "metadata": {},
   "outputs": [],
   "source": [
    "def numbering(lis):\n",
    "    d=[]\n",
    "    j='0'\n",
    "    for i in range(len(lis)):\n",
    "        d.append([*lis[i],j])\n",
    "        if j=='0':\n",
    "            j='1'\n",
    "        elif j=='1':\n",
    "            j='0'\n",
    "    e=d[0:2]\n",
    "    for i in range(2,len(d)):\n",
    "        for _ in range(len(e),len(e)-3,-1):\n",
    "            for o in range(len(e[_])-len(d[i][:-1])):\n",
    "                if d[i][:-1] in e[o:len(d[i][:-1])+o]:\n",
    "                    d[i][-1]+=e[_][-1]\n",
    "                    e.append(d[i])\n",
    "                    break\n",
    "    return d"
   ]
  },
  {
   "cell_type": "code",
   "execution_count": 71,
   "metadata": {},
   "outputs": [
    {
     "data": {
      "text/plain": [
       "[[0.4, '0'], [0.2, '100'], [0.1, '1']]"
      ]
     },
     "execution_count": 71,
     "metadata": {},
     "output_type": "execute_result"
    }
   ],
   "source": [
    "c=[[0.4,'0'],[0.2,'10'],[0.1,'1']]\n",
    "for i in range(len(c)):\n",
    "    if 0.2 in c[i]:\n",
    "        c[i][1]+='0'\n",
    "c"
   ]
  },
  {
   "cell_type": "code",
   "execution_count": 105,
   "metadata": {
    "scrolled": false
   },
   "outputs": [
    {
     "name": "stdout",
     "output_type": "stream",
     "text": [
      "PROGRAM DEVOLOPER ---> VIRU GUPTA\n",
      "GIVEN PROBABILITIES OF ELEMENTS IS -->  [0.3, 0.2, 0.2, 0.1, 0.1, 0.07, 0.03]\n",
      "SHANNON FANO ENCODING ALGORITHM RESULTS.....\n",
      "[0.3] ---> 00\n",
      "[0.2] ---> 01\n",
      "[0.2] ---> 10\n",
      "[0.1] ---> 110\n",
      "[0.1] ---> 1110\n",
      "[0.07] ---> 11110\n",
      "[0.03] ---> 11111\n"
     ]
    }
   ],
   "source": [
    "b=[0.3,0.2,0.2,0.1,0.1,0.07,0.03]\n",
    "a=[0.2,0.15,0.2,0.1,0.1,0.08,.07,0.05,0.03,0.02]\n",
    "c=[0.3,0.28,0.22,0.15,0.05]\n",
    "def splitt(lis):\n",
    "    res=[]\n",
    "    for _ in range(1,len(lis)):\n",
    "        res.append(abs(sum(lis[:_])-sum(lis[_:])))\n",
    "    spl=res.index(min(res))\n",
    "    a=lis[:spl+1]\n",
    "    b=lis[spl+1:]\n",
    "    return a,b\n",
    "def totally(lis):\n",
    "    print('PROGRAM DEVOLOPER ---> VIRU GUPTA')\n",
    "    print('GIVEN PROBABILITIES OF ELEMENTS IS --> ',lis)\n",
    "    elemen=[[] for _ in range(len(lis)**2*2)]\n",
    "    elemen[0]=0\n",
    "    elemen[1]=1\n",
    "    res=[]\n",
    "    total=[[] for _ in range(len(lis)**2*2)]\n",
    "    tat=[[] for _ in range(len(lis)**2*2)]\n",
    "    total[0],total[1]=splitt(lis)\n",
    "    tat[0],tat[1]=[total[0],'0'],[total[1],'1']\n",
    "    i,j='0','1'\n",
    "    for _ in range(len(total)):\n",
    "        if len(total[_])>1:\n",
    "            a,b=2*_+2,2*_+3\n",
    "            total[a],total[b]=splitt(total[_])\n",
    "            tat[a],tat[b]=[total[a],tat[elemen.index(_)][1]+i],[total[b],tat[elemen.index(_)][1]+j]\n",
    "            elemen[a]=a\n",
    "            elemen[b]=b\n",
    "    res = [ele for ele in tat if ele != []]\n",
    "    total.clear()\n",
    "    elemen.clear()\n",
    "    tat.clear()\n",
    "    final=[]\n",
    "    for _ in range(len(res)):\n",
    "        if len(res[_][0])==1:\n",
    "            final.append(res[_])\n",
    "    print('SHANNON FANO ENCODING ALGORITHM RESULTS.....')\n",
    "    for _ in range(len(final)):\n",
    "        print(final[_][0],'--->',final[_][1])\n",
    "totally(b)"
   ]
  },
  {
   "cell_type": "code",
   "execution_count": 66,
   "metadata": {},
   "outputs": [
    {
     "data": {
      "text/plain": [
       "30"
      ]
     },
     "execution_count": 66,
     "metadata": {},
     "output_type": "execute_result"
    }
   ],
   "source": [
    "len([[0.3, 0.28], [0.22, 0.1, 0.05, 0.05], [0.3], [0.28], [0.22], [0.1, 0.05, 0.05], [], [], [], [], [], [], [0.1], [0.05, 0.05], [], [], [], [], [], [], [], [], [], [], [], [], [], [], [0.05], [0.05]])"
   ]
  },
  {
   "cell_type": "code",
   "execution_count": 101,
   "metadata": {},
   "outputs": [
    {
     "data": {
      "text/plain": [
       "False"
      ]
     },
     "execution_count": 101,
     "metadata": {},
     "output_type": "execute_result"
    }
   ],
   "source": [
    "[0.2, 0.1, 0.07, 0.03] == [0.2, 0.2, 0.1, 0.07, 0.03]"
   ]
  },
  {
   "cell_type": "code",
   "execution_count": 30,
   "metadata": {},
   "outputs": [
    {
     "data": {
      "text/plain": [
       "13"
      ]
     },
     "execution_count": 30,
     "metadata": {},
     "output_type": "execute_result"
    }
   ],
   "source": [
    "(29-3)//2"
   ]
  },
  {
   "cell_type": "code",
   "execution_count": 107,
   "metadata": {},
   "outputs": [
    {
     "data": {
      "text/plain": [
       "False"
      ]
     },
     "execution_count": 107,
     "metadata": {},
     "output_type": "execute_result"
    }
   ],
   "source": [
    "[0.3] in [0.2,0.3]"
   ]
  },
  {
   "cell_type": "code",
   "execution_count": 5,
   "metadata": {},
   "outputs": [
    {
     "name": "stdout",
     "output_type": "stream",
     "text": [
      "1 [1, 5, 2, 3, 4]\n",
      "1\n",
      "2 [5, 2, 3, 4]\n",
      "2\n",
      "4 [5, 3, 4]\n",
      "4\n"
     ]
    },
    {
     "data": {
      "text/plain": [
       "[5, 3]"
      ]
     },
     "execution_count": 5,
     "metadata": {},
     "output_type": "execute_result"
    }
   ],
   "source": [
    "a=[1,5,2,3,4]\n",
    "for i in a:\n",
    "    print(i,a)\n",
    "    print(a.pop(a.index(i)))\n",
    "a"
   ]
  },
  {
   "cell_type": "code",
   "execution_count": 6,
   "metadata": {},
   "outputs": [],
   "source": [
    "d={1:'a'}\n",
    "d[2]='b'"
   ]
  },
  {
   "cell_type": "code",
   "execution_count": 7,
   "metadata": {},
   "outputs": [
    {
     "data": {
      "text/plain": [
       "{1: 'a', 2: 'b'}"
      ]
     },
     "execution_count": 7,
     "metadata": {},
     "output_type": "execute_result"
    }
   ],
   "source": [
    "d"
   ]
  },
  {
   "cell_type": "code",
   "execution_count": 12,
   "metadata": {},
   "outputs": [
    {
     "data": {
      "text/plain": [
       "False"
      ]
     },
     "execution_count": 12,
     "metadata": {},
     "output_type": "execute_result"
    }
   ],
   "source": [
    "3 in d"
   ]
  },
  {
   "cell_type": "code",
   "execution_count": 109,
   "metadata": {},
   "outputs": [
    {
     "ename": "IndentationError",
     "evalue": "unexpected indent (<ipython-input-109-515cc85ae42d>, line 2)",
     "output_type": "error",
     "traceback": [
      "\u001b[1;36m  File \u001b[1;32m\"<ipython-input-109-515cc85ae42d>\"\u001b[1;36m, line \u001b[1;32m2\u001b[0m\n\u001b[1;33m    for _ in range(2,len(lis)):\u001b[0m\n\u001b[1;37m    ^\u001b[0m\n\u001b[1;31mIndentationError\u001b[0m\u001b[1;31m:\u001b[0m unexpected indent\n"
     ]
    }
   ],
   "source": [
    "i='1'\n",
    "    for _ in range(2,len(lis)):\n",
    "        print(i)\n",
    "        if i=='0':\n",
    "            i='1'\n",
    "        if i=='1':\n",
    "            i='0'\n",
    "        for u in range(len(lis[_])):\n",
    "            if lis[_][u] in d:\n",
    "                d[lis[_][u]]+=i\n",
    "            else:\n",
    "                #d.__setitem__([lis[_][u]],i)\n",
    "                pass"
   ]
  },
  {
   "cell_type": "code",
   "execution_count": 114,
   "metadata": {},
   "outputs": [
    {
     "name": "stdout",
     "output_type": "stream",
     "text": [
      "2\n",
      "1\n",
      "0\n"
     ]
    }
   ],
   "source": [
    "s=[1,2]\n",
    "for i in range(len(s),len(s)-3,-1):\n",
    "    print(i)"
   ]
  },
  {
   "cell_type": "code",
   "execution_count": 117,
   "metadata": {},
   "outputs": [
    {
     "data": {
      "text/plain": [
       "[0.2]"
      ]
     },
     "execution_count": 117,
     "metadata": {},
     "output_type": "execute_result"
    }
   ],
   "source": [
    "[0.2, '0'][:-1]"
   ]
  },
  {
   "cell_type": "code",
   "execution_count": 153,
   "metadata": {},
   "outputs": [
    {
     "data": {
      "text/plain": [
       "1"
      ]
     },
     "execution_count": 153,
     "metadata": {},
     "output_type": "execute_result"
    }
   ],
   "source": [
    "(3-2)//1"
   ]
  },
  {
   "cell_type": "code",
   "execution_count": null,
   "metadata": {},
   "outputs": [],
   "source": [
    "print(total[(_-2)//2],total[(_-3)//2],'\\n')\n",
    "            if tat[(_-2)//2] != [] and tat[(_-3)//2]!=[]:\n",
    "                print(total[(_-2)//2],total[(_-3)//2])\n",
    "                tat[a],tat[b]=[total[a],tat[(_-2)//2][1]+i],[total[b],tat[(_-3)//2][1]+j]"
   ]
  }
 ],
 "metadata": {
  "kernelspec": {
   "display_name": "Python 3",
   "language": "python",
   "name": "python3"
  },
  "language_info": {
   "codemirror_mode": {
    "name": "ipython",
    "version": 3
   },
   "file_extension": ".py",
   "mimetype": "text/x-python",
   "name": "python",
   "nbconvert_exporter": "python",
   "pygments_lexer": "ipython3",
   "version": "3.8.3"
  }
 },
 "nbformat": 4,
 "nbformat_minor": 4
}
